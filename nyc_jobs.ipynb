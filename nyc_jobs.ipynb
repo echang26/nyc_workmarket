{
 "cells": [
  {
   "cell_type": "markdown",
   "metadata": {},
   "source": [
    "# Analyzing Open Jobs in NYC City Government\n",
    "\n",
    "NYC Open Data has released a list of all the open jobs in the city of New York. I downloaded the data in CSV form [here](https://data.cityofnewyork.us/Business/NYC-Jobs/kpav-sd4t).\n",
    "\n",
    "My goal is to answer the following questions:\n",
    "\n",
    "1. Who has the most openings?\n",
    "2. Which departments have the highest and the lowest paying positions (based on current job openings)?\n",
    "3. Which jobs do you think are the hardest to fill? (What makes you say that?)\n",
    "\n",
    "Some info to consider that isn't immediately apparent from the dataset at first glance:\n",
    "* Some rows of job listings represent more than one available position with that job title. This is indicated anytime the column \"# Of Positions\" is > 1. This is important for calculating the answer to question 1.\n",
    "* Some rows of job listings have exactly the same Job ID and information, except that one has a Posting Type of Internal and the other External. We should not count these as two separate positions when answering the first two questions, since they technically represent the same job opening that was posted to two different outlets.\n",
    "* The column \"Salary Frequency\" can be Hourly, Daily or Annual. This should be factored into our investigation of question 2.\n",
    "\n",
    "OK, let's get started!"
   ]
  },
  {
   "cell_type": "code",
   "execution_count": 1,
   "metadata": {
    "collapsed": false
   },
   "outputs": [],
   "source": [
    "%matplotlib inline \n",
    "\n",
    "import math\n",
    "import pandas as pd\n",
    "import numpy as np\n",
    "import csv\n",
    "import json\n",
    "import matplotlib.pyplot as plt\n",
    "from collections import defaultdict\n",
    "\n",
    "\n",
    "nyc_jobs = pd.read_csv('NYC_Jobs.csv', encoding='utf-8')\n",
    "nyc_jobs.columns = ['Job ID','Agency','Posting Type','# Of Positions','Business Title','Civil Service Title','Title Code No',\n",
    "'Level','Salary Range From','Salary Range To','Salary Frequency','Work Location','Division/Work Unit','Job Description',\n",
    "'Minimum Qual Requirements','Preferred Skills','Additional Information','To Apply','Hours/Shift','Work Location 1','Recruitment Contact',\n",
    "'Residency Requirement','Posting Date','Post Until','Posting Updated','Process Date']"
   ]
  },
  {
   "cell_type": "markdown",
   "metadata": {},
   "source": [
    "Let's test it out by printing out the first 3 rows."
   ]
  },
  {
   "cell_type": "code",
   "execution_count": 2,
   "metadata": {
    "collapsed": false
   },
   "outputs": [
    {
     "data": {
      "text/html": [
       "<div>\n",
       "<table border=\"1\" class=\"dataframe\">\n",
       "  <thead>\n",
       "    <tr style=\"text-align: right;\">\n",
       "      <th></th>\n",
       "      <th>Job ID</th>\n",
       "      <th>Agency</th>\n",
       "      <th>Posting Type</th>\n",
       "      <th># Of Positions</th>\n",
       "      <th>Business Title</th>\n",
       "      <th>Civil Service Title</th>\n",
       "      <th>Title Code No</th>\n",
       "      <th>Level</th>\n",
       "      <th>Salary Range From</th>\n",
       "      <th>Salary Range To</th>\n",
       "      <th>...</th>\n",
       "      <th>Additional Information</th>\n",
       "      <th>To Apply</th>\n",
       "      <th>Hours/Shift</th>\n",
       "      <th>Work Location 1</th>\n",
       "      <th>Recruitment Contact</th>\n",
       "      <th>Residency Requirement</th>\n",
       "      <th>Posting Date</th>\n",
       "      <th>Post Until</th>\n",
       "      <th>Posting Updated</th>\n",
       "      <th>Process Date</th>\n",
       "    </tr>\n",
       "  </thead>\n",
       "  <tbody>\n",
       "    <tr>\n",
       "      <th>0</th>\n",
       "      <td>167179</td>\n",
       "      <td>NYC EMPLOYEES RETIREMENT SYS</td>\n",
       "      <td>Internal</td>\n",
       "      <td>1</td>\n",
       "      <td>CERTIFIED IT ADMINISTRATOR (WAN), Level 4</td>\n",
       "      <td>CERT. IT ADMINISTRATOR WAN</td>\n",
       "      <td>13642</td>\n",
       "      <td>04</td>\n",
       "      <td>87203</td>\n",
       "      <td>131623</td>\n",
       "      <td>...</td>\n",
       "      <td></td>\n",
       "      <td>To apply please click the ''apply now'' button...</td>\n",
       "      <td></td>\n",
       "      <td></td>\n",
       "      <td>NaN</td>\n",
       "      <td>New York City Residency is not required for th...</td>\n",
       "      <td>11/19/2014 00:00:00</td>\n",
       "      <td>NaN</td>\n",
       "      <td>11/19/2014 00:00:00</td>\n",
       "      <td>02/23/2016 00:00:00</td>\n",
       "    </tr>\n",
       "    <tr>\n",
       "      <th>1</th>\n",
       "      <td>167179</td>\n",
       "      <td>NYC EMPLOYEES RETIREMENT SYS</td>\n",
       "      <td>External</td>\n",
       "      <td>1</td>\n",
       "      <td>CERTIFIED IT ADMINISTRATOR (WAN), Level 4</td>\n",
       "      <td>CERT. IT ADMINISTRATOR WAN</td>\n",
       "      <td>13642</td>\n",
       "      <td>04</td>\n",
       "      <td>87203</td>\n",
       "      <td>131623</td>\n",
       "      <td>...</td>\n",
       "      <td></td>\n",
       "      <td>To apply please click the ''apply now'' button...</td>\n",
       "      <td></td>\n",
       "      <td></td>\n",
       "      <td>NaN</td>\n",
       "      <td>New York City Residency is not required for th...</td>\n",
       "      <td>11/19/2014 00:00:00</td>\n",
       "      <td>NaN</td>\n",
       "      <td>11/19/2014 00:00:00</td>\n",
       "      <td>02/23/2016 00:00:00</td>\n",
       "    </tr>\n",
       "    <tr>\n",
       "      <th>2</th>\n",
       "      <td>168165</td>\n",
       "      <td>DEPT OF HEALTH/MENTAL HYGIENE</td>\n",
       "      <td>External</td>\n",
       "      <td>1</td>\n",
       "      <td>Project Coordinator, District Public Health Br...</td>\n",
       "      <td>ADMINISTRATIVE STAFF ANALYST (</td>\n",
       "      <td>1002A</td>\n",
       "      <td>00</td>\n",
       "      <td>56937</td>\n",
       "      <td>88649</td>\n",
       "      <td>...</td>\n",
       "      <td></td>\n",
       "      <td>Apply online with a cover letter to https://a1...</td>\n",
       "      <td></td>\n",
       "      <td>485 Throop Avenue, Brooklyn, NY, 11221</td>\n",
       "      <td>NaN</td>\n",
       "      <td>New York City residency is generally required ...</td>\n",
       "      <td>09/18/2014 00:00:00</td>\n",
       "      <td>NaN</td>\n",
       "      <td>09/18/2014 00:00:00</td>\n",
       "      <td>02/23/2016 00:00:00</td>\n",
       "    </tr>\n",
       "  </tbody>\n",
       "</table>\n",
       "<p>3 rows × 26 columns</p>\n",
       "</div>"
      ],
      "text/plain": [
       "   Job ID                         Agency Posting Type  # Of Positions  \\\n",
       "0  167179   NYC EMPLOYEES RETIREMENT SYS     Internal               1   \n",
       "1  167179   NYC EMPLOYEES RETIREMENT SYS     External               1   \n",
       "2  168165  DEPT OF HEALTH/MENTAL HYGIENE     External               1   \n",
       "\n",
       "                                      Business Title  \\\n",
       "0          CERTIFIED IT ADMINISTRATOR (WAN), Level 4   \n",
       "1          CERTIFIED IT ADMINISTRATOR (WAN), Level 4   \n",
       "2  Project Coordinator, District Public Health Br...   \n",
       "\n",
       "              Civil Service Title Title Code No Level  Salary Range From  \\\n",
       "0      CERT. IT ADMINISTRATOR WAN         13642    04              87203   \n",
       "1      CERT. IT ADMINISTRATOR WAN         13642    04              87203   \n",
       "2  ADMINISTRATIVE STAFF ANALYST (         1002A    00              56937   \n",
       "\n",
       "   Salary Range To         ...          Additional Information  \\\n",
       "0           131623         ...                                   \n",
       "1           131623         ...                                   \n",
       "2            88649         ...                                   \n",
       "\n",
       "                                            To Apply Hours/Shift  \\\n",
       "0  To apply please click the ''apply now'' button...               \n",
       "1  To apply please click the ''apply now'' button...               \n",
       "2  Apply online with a cover letter to https://a1...               \n",
       "\n",
       "                          Work Location 1 Recruitment Contact  \\\n",
       "0                                                         NaN   \n",
       "1                                                         NaN   \n",
       "2  485 Throop Avenue, Brooklyn, NY, 11221                 NaN   \n",
       "\n",
       "                               Residency Requirement         Posting Date  \\\n",
       "0  New York City Residency is not required for th...  11/19/2014 00:00:00   \n",
       "1  New York City Residency is not required for th...  11/19/2014 00:00:00   \n",
       "2  New York City residency is generally required ...  09/18/2014 00:00:00   \n",
       "\n",
       "  Post Until      Posting Updated         Process Date  \n",
       "0        NaN  11/19/2014 00:00:00  02/23/2016 00:00:00  \n",
       "1        NaN  11/19/2014 00:00:00  02/23/2016 00:00:00  \n",
       "2        NaN  09/18/2014 00:00:00  02/23/2016 00:00:00  \n",
       "\n",
       "[3 rows x 26 columns]"
      ]
     },
     "execution_count": 2,
     "metadata": {},
     "output_type": "execute_result"
    }
   ],
   "source": [
    "nyc_jobs[:3]\n",
    "#check data types of each column\n",
    "#nyc_jobs.dtypes"
   ]
  },
  {
   "cell_type": "markdown",
   "metadata": {},
   "source": [
    "Notice something interesting about the above? Rows 0 and 1 are the exact same listing (Job ID is the same). The only difference is that one is an internal listing and one is external (see posting type column). We should not count these as 2 separate openings. How do we avoid counting these as two separate postings? \n",
    "\n",
    "Let's check if all external postings have already been posted internally."
   ]
  },
  {
   "cell_type": "code",
   "execution_count": 3,
   "metadata": {
    "collapsed": false
   },
   "outputs": [
    {
     "data": {
      "text/html": [
       "<div>\n",
       "<table border=\"1\" class=\"dataframe\">\n",
       "  <thead>\n",
       "    <tr style=\"text-align: right;\">\n",
       "      <th></th>\n",
       "      <th>Job ID</th>\n",
       "      <th>Agency</th>\n",
       "      <th>Posting Type</th>\n",
       "      <th># Of Positions</th>\n",
       "      <th>Business Title</th>\n",
       "      <th>Civil Service Title</th>\n",
       "      <th>Title Code No</th>\n",
       "      <th>Level</th>\n",
       "      <th>Salary Range From</th>\n",
       "      <th>Salary Range To</th>\n",
       "      <th>...</th>\n",
       "      <th>Additional Information</th>\n",
       "      <th>To Apply</th>\n",
       "      <th>Hours/Shift</th>\n",
       "      <th>Work Location 1</th>\n",
       "      <th>Recruitment Contact</th>\n",
       "      <th>Residency Requirement</th>\n",
       "      <th>Posting Date</th>\n",
       "      <th>Post Until</th>\n",
       "      <th>Posting Updated</th>\n",
       "      <th>Process Date</th>\n",
       "    </tr>\n",
       "  </thead>\n",
       "  <tbody>\n",
       "    <tr>\n",
       "      <th>35</th>\n",
       "      <td>151131</td>\n",
       "      <td>NYC HOUSING AUTHORITY</td>\n",
       "      <td>External</td>\n",
       "      <td>1</td>\n",
       "      <td>Cost Estimating Manager</td>\n",
       "      <td>ADMINISTRATIVE STAFF ANALYST (</td>\n",
       "      <td>1002D</td>\n",
       "      <td>00</td>\n",
       "      <td>90000</td>\n",
       "      <td>110000</td>\n",
       "      <td>...</td>\n",
       "      <td>SPECIAL INSTRUCTIONS FOR NYCHA EMPLOYEES:    N...</td>\n",
       "      <td>Click the ''Apply Now'' button.</td>\n",
       "      <td></td>\n",
       "      <td></td>\n",
       "      <td>NaN</td>\n",
       "      <td>NYCHA has no residency requirements.</td>\n",
       "      <td>06/25/2014 00:00:00</td>\n",
       "      <td>NaN</td>\n",
       "      <td>07/07/2014 00:00:00</td>\n",
       "      <td>02/23/2016 00:00:00</td>\n",
       "    </tr>\n",
       "    <tr>\n",
       "      <th>119</th>\n",
       "      <td>163183</td>\n",
       "      <td>DEPT OF ENVIRONMENT PROTECTION</td>\n",
       "      <td>External</td>\n",
       "      <td>1</td>\n",
       "      <td>Per Diem - Remote Learning Team Specialist</td>\n",
       "      <td>COMPUTER PROGRAMMER ANALYST</td>\n",
       "      <td>13651</td>\n",
       "      <td>01</td>\n",
       "      <td>24</td>\n",
       "      <td>33</td>\n",
       "      <td>...</td>\n",
       "      <td></td>\n",
       "      <td>Click the ''apply now'' button.</td>\n",
       "      <td></td>\n",
       "      <td>59-17 Junction Blvd Corona Ny</td>\n",
       "      <td>NaN</td>\n",
       "      <td>New York City Residency is not required for th...</td>\n",
       "      <td>08/27/2014 00:00:00</td>\n",
       "      <td>NaN</td>\n",
       "      <td>08/27/2014 00:00:00</td>\n",
       "      <td>02/23/2016 00:00:00</td>\n",
       "    </tr>\n",
       "    <tr>\n",
       "      <th>1067</th>\n",
       "      <td>209312</td>\n",
       "      <td>DEPARTMENT OF TRANSPORTATION</td>\n",
       "      <td>External</td>\n",
       "      <td>2</td>\n",
       "      <td>Deputy Queens Borough Commissioner - 2 positions</td>\n",
       "      <td>CONFIDENTIAL STRATEGY PLANNER</td>\n",
       "      <td>54738</td>\n",
       "      <td>00</td>\n",
       "      <td>52808</td>\n",
       "      <td>88890</td>\n",
       "      <td>...</td>\n",
       "      <td>MINIMUM QUALIFICATION REQUIREMENTS: A baccalau...</td>\n",
       "      <td>All resumes are to be submitted electronically...</td>\n",
       "      <td></td>\n",
       "      <td></td>\n",
       "      <td>NaN</td>\n",
       "      <td>New York City residency is generally required ...</td>\n",
       "      <td>08/26/2015 00:00:00</td>\n",
       "      <td>NaN</td>\n",
       "      <td>09/16/2015 00:00:00</td>\n",
       "      <td>02/23/2016 00:00:00</td>\n",
       "    </tr>\n",
       "    <tr>\n",
       "      <th>1500</th>\n",
       "      <td>217474</td>\n",
       "      <td>HOUSING PRESERVATION &amp; DVLPMNT</td>\n",
       "      <td>External</td>\n",
       "      <td>1</td>\n",
       "      <td>Environmental Planner</td>\n",
       "      <td>CITY PLANNER</td>\n",
       "      <td>22122</td>\n",
       "      <td>01</td>\n",
       "      <td>49897</td>\n",
       "      <td>65000</td>\n",
       "      <td>...</td>\n",
       "      <td></td>\n",
       "      <td>Apply Online</td>\n",
       "      <td></td>\n",
       "      <td>100 Gold Street</td>\n",
       "      <td>NaN</td>\n",
       "      <td>New York City residency is generally required ...</td>\n",
       "      <td>10/05/2015 00:00:00</td>\n",
       "      <td>NaN</td>\n",
       "      <td>10/05/2015 00:00:00</td>\n",
       "      <td>02/23/2016 00:00:00</td>\n",
       "    </tr>\n",
       "    <tr>\n",
       "      <th>3568</th>\n",
       "      <td>231079</td>\n",
       "      <td>HOUSING PRESERVATION &amp; DVLPMNT</td>\n",
       "      <td>External</td>\n",
       "      <td>1</td>\n",
       "      <td>Assistant Architect</td>\n",
       "      <td>ASSISTANT ARCHITECT</td>\n",
       "      <td>21210</td>\n",
       "      <td>00</td>\n",
       "      <td>51586</td>\n",
       "      <td>77404</td>\n",
       "      <td>...</td>\n",
       "      <td></td>\n",
       "      <td>NaN</td>\n",
       "      <td></td>\n",
       "      <td>100 Gold Street</td>\n",
       "      <td>NaN</td>\n",
       "      <td>New York City Residency is not required for th...</td>\n",
       "      <td>02/09/2016 00:00:00</td>\n",
       "      <td>NaN</td>\n",
       "      <td>02/09/2016 00:00:00</td>\n",
       "      <td>02/23/2016 00:00:00</td>\n",
       "    </tr>\n",
       "  </tbody>\n",
       "</table>\n",
       "<p>5 rows × 26 columns</p>\n",
       "</div>"
      ],
      "text/plain": [
       "      Job ID                          Agency Posting Type  # Of Positions  \\\n",
       "35    151131           NYC HOUSING AUTHORITY     External               1   \n",
       "119   163183  DEPT OF ENVIRONMENT PROTECTION     External               1   \n",
       "1067  209312    DEPARTMENT OF TRANSPORTATION     External               2   \n",
       "1500  217474  HOUSING PRESERVATION & DVLPMNT     External               1   \n",
       "3568  231079  HOUSING PRESERVATION & DVLPMNT     External               1   \n",
       "\n",
       "                                        Business Title  \\\n",
       "35                             Cost Estimating Manager   \n",
       "119         Per Diem - Remote Learning Team Specialist   \n",
       "1067  Deputy Queens Borough Commissioner - 2 positions   \n",
       "1500                             Environmental Planner   \n",
       "3568                               Assistant Architect   \n",
       "\n",
       "                 Civil Service Title Title Code No Level  Salary Range From  \\\n",
       "35    ADMINISTRATIVE STAFF ANALYST (         1002D    00              90000   \n",
       "119      COMPUTER PROGRAMMER ANALYST         13651    01                 24   \n",
       "1067   CONFIDENTIAL STRATEGY PLANNER         54738    00              52808   \n",
       "1500                    CITY PLANNER         22122    01              49897   \n",
       "3568             ASSISTANT ARCHITECT         21210    00              51586   \n",
       "\n",
       "      Salary Range To         ...           \\\n",
       "35             110000         ...            \n",
       "119                33         ...            \n",
       "1067            88890         ...            \n",
       "1500            65000         ...            \n",
       "3568            77404         ...            \n",
       "\n",
       "                                 Additional Information  \\\n",
       "35    SPECIAL INSTRUCTIONS FOR NYCHA EMPLOYEES:    N...   \n",
       "119                                                       \n",
       "1067  MINIMUM QUALIFICATION REQUIREMENTS: A baccalau...   \n",
       "1500                                                      \n",
       "3568                                                      \n",
       "\n",
       "                                               To Apply Hours/Shift  \\\n",
       "35                      Click the ''Apply Now'' button.               \n",
       "119                     Click the ''apply now'' button.               \n",
       "1067  All resumes are to be submitted electronically...               \n",
       "1500                                       Apply Online               \n",
       "3568                                                NaN               \n",
       "\n",
       "                    Work Location 1 Recruitment Contact  \\\n",
       "35                                                  NaN   \n",
       "119   59-17 Junction Blvd Corona Ny                 NaN   \n",
       "1067                                                NaN   \n",
       "1500                100 Gold Street                 NaN   \n",
       "3568                100 Gold Street                 NaN   \n",
       "\n",
       "                                  Residency Requirement         Posting Date  \\\n",
       "35                 NYCHA has no residency requirements.  06/25/2014 00:00:00   \n",
       "119   New York City Residency is not required for th...  08/27/2014 00:00:00   \n",
       "1067  New York City residency is generally required ...  08/26/2015 00:00:00   \n",
       "1500  New York City residency is generally required ...  10/05/2015 00:00:00   \n",
       "3568  New York City Residency is not required for th...  02/09/2016 00:00:00   \n",
       "\n",
       "     Post Until      Posting Updated         Process Date  \n",
       "35          NaN  07/07/2014 00:00:00  02/23/2016 00:00:00  \n",
       "119         NaN  08/27/2014 00:00:00  02/23/2016 00:00:00  \n",
       "1067        NaN  09/16/2015 00:00:00  02/23/2016 00:00:00  \n",
       "1500        NaN  10/05/2015 00:00:00  02/23/2016 00:00:00  \n",
       "3568        NaN  02/09/2016 00:00:00  02/23/2016 00:00:00  \n",
       "\n",
       "[5 rows x 26 columns]"
      ]
     },
     "execution_count": 3,
     "metadata": {},
     "output_type": "execute_result"
    }
   ],
   "source": [
    "internal_ids = nyc_jobs[nyc_jobs['Posting Type'] == 'Internal']['Job ID']\n",
    "external_ids = nyc_jobs[nyc_jobs['Posting Type'] == 'External']['Job ID']\n",
    "\n",
    "external_only = set(external_ids) - set(internal_ids)\n",
    "external_only_df = nyc_jobs[nyc_jobs['Job ID'].isin(external_only)]\n",
    "external_only_df.head()"
   ]
  },
  {
   "cell_type": "markdown",
   "metadata": {},
   "source": [
    "Looks like 5 job IDs are posted externally, but not internally. Interesting."
   ]
  },
  {
   "cell_type": "markdown",
   "metadata": {},
   "source": [
    "Let's use drop_duplicates('Job ID') to make sure listings that appear twice only appear once in our dataframe."
   ]
  },
  {
   "cell_type": "code",
   "execution_count": 4,
   "metadata": {
    "collapsed": false
   },
   "outputs": [
    {
     "data": {
      "text/html": [
       "<div>\n",
       "<table border=\"1\" class=\"dataframe\">\n",
       "  <thead>\n",
       "    <tr style=\"text-align: right;\">\n",
       "      <th></th>\n",
       "      <th>Job ID</th>\n",
       "      <th>Agency</th>\n",
       "      <th>Posting Type</th>\n",
       "      <th># Of Positions</th>\n",
       "      <th>Business Title</th>\n",
       "      <th>Civil Service Title</th>\n",
       "      <th>Title Code No</th>\n",
       "      <th>Level</th>\n",
       "      <th>Salary Range From</th>\n",
       "      <th>Salary Range To</th>\n",
       "      <th>...</th>\n",
       "      <th>Division/Work Unit</th>\n",
       "      <th>Job Description</th>\n",
       "      <th>Preferred Skills</th>\n",
       "      <th>Additional Information</th>\n",
       "      <th>Hours/Shift</th>\n",
       "      <th>Work Location 1</th>\n",
       "      <th>Residency Requirement</th>\n",
       "      <th>Posting Date</th>\n",
       "      <th>Posting Updated</th>\n",
       "      <th>Process Date</th>\n",
       "    </tr>\n",
       "  </thead>\n",
       "  <tbody>\n",
       "    <tr>\n",
       "      <th>0</th>\n",
       "      <td>167179</td>\n",
       "      <td>NYC EMPLOYEES RETIREMENT SYS</td>\n",
       "      <td>Internal</td>\n",
       "      <td>1</td>\n",
       "      <td>CERTIFIED IT ADMINISTRATOR (WAN), Level 4</td>\n",
       "      <td>CERT. IT ADMINISTRATOR WAN</td>\n",
       "      <td>13642</td>\n",
       "      <td>04</td>\n",
       "      <td>87203</td>\n",
       "      <td>131623</td>\n",
       "      <td>...</td>\n",
       "      <td>Executive Management</td>\n",
       "      <td>Oversees the design, installation, configurati...</td>\n",
       "      <td>Minimum 5 years of experience planning, design...</td>\n",
       "      <td></td>\n",
       "      <td></td>\n",
       "      <td></td>\n",
       "      <td>New York City Residency is not required for th...</td>\n",
       "      <td>11/19/2014 00:00:00</td>\n",
       "      <td>11/19/2014 00:00:00</td>\n",
       "      <td>02/23/2016 00:00:00</td>\n",
       "    </tr>\n",
       "    <tr>\n",
       "      <th>2</th>\n",
       "      <td>168165</td>\n",
       "      <td>DEPT OF HEALTH/MENTAL HYGIENE</td>\n",
       "      <td>External</td>\n",
       "      <td>1</td>\n",
       "      <td>Project Coordinator, District Public Health Br...</td>\n",
       "      <td>ADMINISTRATIVE STAFF ANALYST (</td>\n",
       "      <td>1002A</td>\n",
       "      <td>00</td>\n",
       "      <td>56937</td>\n",
       "      <td>88649</td>\n",
       "      <td>...</td>\n",
       "      <td>District Public Health Brklyn</td>\n",
       "      <td>The Brooklyn District Public Health Office (DP...</td>\n",
       "      <td>Master's degree in public health or equivalent...</td>\n",
       "      <td></td>\n",
       "      <td></td>\n",
       "      <td>485 Throop Avenue, Brooklyn, NY, 11221</td>\n",
       "      <td>New York City residency is generally required ...</td>\n",
       "      <td>09/18/2014 00:00:00</td>\n",
       "      <td>09/18/2014 00:00:00</td>\n",
       "      <td>02/23/2016 00:00:00</td>\n",
       "    </tr>\n",
       "    <tr>\n",
       "      <th>3</th>\n",
       "      <td>149599</td>\n",
       "      <td>DEPT OF ENVIRONMENT PROTECTION</td>\n",
       "      <td>External</td>\n",
       "      <td>1</td>\n",
       "      <td>Construction Project Manager Intern</td>\n",
       "      <td>CONSTRUCTION PROJECT MANAGER I</td>\n",
       "      <td>34201</td>\n",
       "      <td>00</td>\n",
       "      <td>43349</td>\n",
       "      <td>52496</td>\n",
       "      <td>...</td>\n",
       "      <td>JOCS- IFA</td>\n",
       "      <td>Working within Capital Coordination, under dir...</td>\n",
       "      <td></td>\n",
       "      <td>Appointments are subject to OMB approval.  For...</td>\n",
       "      <td>35 Hours per Week</td>\n",
       "      <td></td>\n",
       "      <td>New York City residency is generally required ...</td>\n",
       "      <td>04/25/2014 00:00:00</td>\n",
       "      <td>04/25/2014 00:00:00</td>\n",
       "      <td>02/23/2016 00:00:00</td>\n",
       "    </tr>\n",
       "    <tr>\n",
       "      <th>5</th>\n",
       "      <td>149908</td>\n",
       "      <td>DEPARTMENT OF BUILDINGS</td>\n",
       "      <td>External</td>\n",
       "      <td>3</td>\n",
       "      <td>Senior Application Developer</td>\n",
       "      <td>COMPUTER SYSTEMS MANAGER</td>\n",
       "      <td>10050</td>\n",
       "      <td>M1</td>\n",
       "      <td>49492</td>\n",
       "      <td>100000</td>\n",
       "      <td>...</td>\n",
       "      <td>Information Technology</td>\n",
       "      <td>The NYC Department of Buildings (Ã¢â¬ÅDOBÃ¢â...</td>\n",
       "      <td>Ã¢â¬Â¢7+ years substantive hands-on applicati...</td>\n",
       "      <td></td>\n",
       "      <td>35 hours (minimum)</td>\n",
       "      <td>280 Broadway, 6th Floor, N.Y.</td>\n",
       "      <td>New York City Residency is not required for th...</td>\n",
       "      <td>04/03/2015 00:00:00</td>\n",
       "      <td>04/03/2015 00:00:00</td>\n",
       "      <td>02/23/2016 00:00:00</td>\n",
       "    </tr>\n",
       "    <tr>\n",
       "      <th>7</th>\n",
       "      <td>87990</td>\n",
       "      <td>DEPARTMENT OF BUSINESS SERV.</td>\n",
       "      <td>Internal</td>\n",
       "      <td>1</td>\n",
       "      <td>Account Manager</td>\n",
       "      <td>CONTRACT REVIEWER (OFFICE OF L</td>\n",
       "      <td>40563</td>\n",
       "      <td>01</td>\n",
       "      <td>42405</td>\n",
       "      <td>65485</td>\n",
       "      <td>...</td>\n",
       "      <td>Strategy &amp; Analytics</td>\n",
       "      <td>Division of Economic &amp; Financial Opportunity (...</td>\n",
       "      <td>Ã¢â¬Â¢\\tExcellent interpersonal and organizat...</td>\n",
       "      <td>Salary range for this position is: $42,405 - $...</td>\n",
       "      <td></td>\n",
       "      <td></td>\n",
       "      <td>New York City residency is generally required ...</td>\n",
       "      <td>06/24/2011 00:00:00</td>\n",
       "      <td>06/24/2011 00:00:00</td>\n",
       "      <td>02/23/2016 00:00:00</td>\n",
       "    </tr>\n",
       "  </tbody>\n",
       "</table>\n",
       "<p>5 rows × 22 columns</p>\n",
       "</div>"
      ],
      "text/plain": [
       "   Job ID                          Agency Posting Type  # Of Positions  \\\n",
       "0  167179    NYC EMPLOYEES RETIREMENT SYS     Internal               1   \n",
       "2  168165   DEPT OF HEALTH/MENTAL HYGIENE     External               1   \n",
       "3  149599  DEPT OF ENVIRONMENT PROTECTION     External               1   \n",
       "5  149908         DEPARTMENT OF BUILDINGS     External               3   \n",
       "7   87990    DEPARTMENT OF BUSINESS SERV.     Internal               1   \n",
       "\n",
       "                                      Business Title  \\\n",
       "0          CERTIFIED IT ADMINISTRATOR (WAN), Level 4   \n",
       "2  Project Coordinator, District Public Health Br...   \n",
       "3                Construction Project Manager Intern   \n",
       "5                       Senior Application Developer   \n",
       "7                                    Account Manager   \n",
       "\n",
       "              Civil Service Title Title Code No Level  Salary Range From  \\\n",
       "0      CERT. IT ADMINISTRATOR WAN         13642    04              87203   \n",
       "2  ADMINISTRATIVE STAFF ANALYST (         1002A    00              56937   \n",
       "3  CONSTRUCTION PROJECT MANAGER I         34201    00              43349   \n",
       "5        COMPUTER SYSTEMS MANAGER         10050    M1              49492   \n",
       "7  CONTRACT REVIEWER (OFFICE OF L         40563    01              42405   \n",
       "\n",
       "   Salary Range To         ...                      Division/Work Unit  \\\n",
       "0           131623         ...                    Executive Management   \n",
       "2            88649         ...           District Public Health Brklyn   \n",
       "3            52496         ...                               JOCS- IFA   \n",
       "5           100000         ...                  Information Technology   \n",
       "7            65485         ...                    Strategy & Analytics   \n",
       "\n",
       "                                     Job Description  \\\n",
       "0  Oversees the design, installation, configurati...   \n",
       "2  The Brooklyn District Public Health Office (DP...   \n",
       "3  Working within Capital Coordination, under dir...   \n",
       "5  The NYC Department of Buildings (Ã¢â¬ÅDOBÃ¢â...   \n",
       "7  Division of Economic & Financial Opportunity (...   \n",
       "\n",
       "                                    Preferred Skills  \\\n",
       "0  Minimum 5 years of experience planning, design...   \n",
       "2  Master's degree in public health or equivalent...   \n",
       "3                                                      \n",
       "5  Ã¢â¬Â¢7+ years substantive hands-on applicati...   \n",
       "7  Ã¢â¬Â¢\\tExcellent interpersonal and organizat...   \n",
       "\n",
       "                              Additional Information         Hours/Shift  \\\n",
       "0                                                                          \n",
       "2                                                                          \n",
       "3  Appointments are subject to OMB approval.  For...   35 Hours per Week   \n",
       "5                                                     35 hours (minimum)   \n",
       "7  Salary range for this position is: $42,405 - $...                       \n",
       "\n",
       "                          Work Location 1  \\\n",
       "0                                           \n",
       "2  485 Throop Avenue, Brooklyn, NY, 11221   \n",
       "3                                           \n",
       "5           280 Broadway, 6th Floor, N.Y.   \n",
       "7                                           \n",
       "\n",
       "                               Residency Requirement         Posting Date  \\\n",
       "0  New York City Residency is not required for th...  11/19/2014 00:00:00   \n",
       "2  New York City residency is generally required ...  09/18/2014 00:00:00   \n",
       "3  New York City residency is generally required ...  04/25/2014 00:00:00   \n",
       "5  New York City Residency is not required for th...  04/03/2015 00:00:00   \n",
       "7  New York City residency is generally required ...  06/24/2011 00:00:00   \n",
       "\n",
       "       Posting Updated         Process Date  \n",
       "0  11/19/2014 00:00:00  02/23/2016 00:00:00  \n",
       "2  09/18/2014 00:00:00  02/23/2016 00:00:00  \n",
       "3  04/25/2014 00:00:00  02/23/2016 00:00:00  \n",
       "5  04/03/2015 00:00:00  02/23/2016 00:00:00  \n",
       "7  06/24/2011 00:00:00  02/23/2016 00:00:00  \n",
       "\n",
       "[5 rows x 22 columns]"
      ]
     },
     "execution_count": 4,
     "metadata": {},
     "output_type": "execute_result"
    }
   ],
   "source": [
    "df2 = nyc_jobs.copy()\n",
    "#drop columns where value is null\n",
    "df2 = df2.dropna(axis=1, how='any')\n",
    "\n",
    "df2 = df2.drop_duplicates('Job ID')\n",
    "df2.head()"
   ]
  },
  {
   "cell_type": "markdown",
   "metadata": {},
   "source": [
    "## Which Agency has the Highest Number of Job Openings?\n",
    "\n",
    "On first glance, the value_counts() method seems to give us the answer quite nicely."
   ]
  },
  {
   "cell_type": "code",
   "execution_count": 5,
   "metadata": {
    "collapsed": false
   },
   "outputs": [
    {
     "data": {
      "text/plain": [
       "DEPT OF HEALTH/MENTAL HYGIENE     630\n",
       "DEPT OF ENVIRONMENT PROTECTION    217\n",
       "DEPT OF DESIGN & CONSTRUCTION     134\n",
       "DEPT OF INFO TECH & TELECOMM      123\n",
       "ADMIN FOR CHILDREN'S SVCS         100\n",
       "DEPARTMENT OF BUILDINGS            93\n",
       "HOUSING PRESERVATION & DVLPMNT     80\n",
       "DEPARTMENT OF INVESTIGATION        73\n",
       "DEPARTMENT OF TRANSPORTATION       73\n",
       "DEPARTMENT OF CORRECTION           61\n",
       "DEPARTMENT OF SANITATION           53\n",
       "HRA/DEPT OF SOCIAL SERVICES        49\n",
       "DEPARTMENT OF FINANCE              47\n",
       "NYC HOUSING AUTHORITY              32\n",
       "DEPT OF PARKS & RECREATION         32\n",
       "FIRE DEPARTMENT                    32\n",
       "DEPARTMENT OF BUSINESS SERV.       31\n",
       "ADMIN TRIALS AND HEARINGS          22\n",
       "DEPT OF CITYWIDE ADMIN SVCS        19\n",
       "CONSUMER AFFAIRS                   16\n",
       "LAW DEPARTMENT                     16\n",
       "TAXI & LIMOUSINE COMMISSION        14\n",
       "DEPT OF YOUTH & COMM DEV SRVS      14\n",
       "FINANCIAL INFO SVCS AGENCY         14\n",
       "DEPT. OF HOMELESS SERVICES         13\n",
       "DEPARTMENT FOR THE AGING           11\n",
       "CIVILIAN COMPLAINT REVIEW BD       11\n",
       "HUMAN RIGHTS COMMISSION             9\n",
       "DEPT OF RECORDS & INFO SERVICE      8\n",
       "OFFICE OF THE COMPTROLLER           7\n",
       "OFF OF PAYROLL ADMINISTRATION       6\n",
       "OFFICE OF EMERGENCY MANAGEMENT      5\n",
       "DEPARTMENT OF CITY PLANNING         5\n",
       "NYC EMPLOYEES RETIREMENT SYS        4\n",
       "DISTRICT ATTORNEY KINGS COUNTY      3\n",
       "OFFICE OF MANAGEMENT & BUDGET       3\n",
       "BUSINESS INTEGRITY COMMISSION       2\n",
       "CONFLICTS OF INTEREST BOARD         2\n",
       "PRESIDENT BOROUGH OF MANHATTAN      1\n",
       "DEPARTMENT OF PROBATION             1\n",
       "CULTURAL AFFAIRS                    1\n",
       "NYC POLICE PENSION FUND             1\n",
       "DISTRICT ATTORNEY RICHMOND COU      1\n",
       "TEACHERS RETIREMENT SYSTEM          1\n",
       "OFFICE OF COLLECTIVE BARGAININ      1\n",
       "Name: Agency, dtype: int64"
      ]
     },
     "execution_count": 5,
     "metadata": {},
     "output_type": "execute_result"
    }
   ],
   "source": [
    "#The below gets agency with highest number of job postings, but doesn't account for postings with # Of Positions > 1; \n",
    "#we should include these in the total count\n",
    "df2['Agency'].value_counts()"
   ]
  },
  {
   "cell_type": "markdown",
   "metadata": {},
   "source": [
    "From the above, it looks like the Department of Health/Mental Hygiene has the most openings. But wait! Remember that sneaky \"# Of Postings\" column? We have to count those, too, right?"
   ]
  },
  {
   "cell_type": "code",
   "execution_count": 6,
   "metadata": {
    "collapsed": false
   },
   "outputs": [
    {
     "name": "stdout",
     "output_type": "stream",
     "text": [
      "[  1   3   5  52   4   2  50  11  30   6   8  15  10  12  20  16   9   7\n",
      "  25  69  75  67  14  17  71  13 100 107  39  18  28]\n"
     ]
    }
   ],
   "source": [
    "#As shown below, # Of Positions prints anywhere from 1 to 100\n",
    "print df2['# Of Positions'].unique()\n",
    "#[  1   3   5  52   4   2  50  11  30   6   8  15  10  12  20  16   9   7\n",
    "#  25  69  75  67  14  17  71  13 100 107  39  18  28]"
   ]
  },
  {
   "cell_type": "markdown",
   "metadata": {},
   "source": [
    "The unique() method has revealed that \"# Of Positions\" can be anywhere from 1 to 107. Let's make sure we count the rows with \"# Of Positions > 1\" as the true number of postings they represent."
   ]
  },
  {
   "cell_type": "code",
   "execution_count": 7,
   "metadata": {
    "collapsed": false
   },
   "outputs": [
    {
     "data": {
      "text/plain": [
       "Agency\n",
       "DEPT OF HEALTH/MENTAL HYGIENE     1382\n",
       "DEPT OF DESIGN & CONSTRUCTION      598\n",
       "DEPARTMENT OF BUILDINGS            484\n",
       "DEPT OF ENVIRONMENT PROTECTION     360\n",
       "ADMIN FOR CHILDREN'S SVCS          275\n",
       "DEPT OF PARKS & RECREATION         200\n",
       "NYC HOUSING AUTHORITY              185\n",
       "DEPARTMENT OF TRANSPORTATION       182\n",
       "DEPARTMENT OF CORRECTION           178\n",
       "DEPT OF INFO TECH & TELECOMM       162\n",
       "DEPARTMENT OF INVESTIGATION        122\n",
       "HOUSING PRESERVATION & DVLPMNT     114\n",
       "DEPARTMENT OF SANITATION            73\n",
       "DEPARTMENT OF FINANCE               56\n",
       "HRA/DEPT OF SOCIAL SERVICES         53\n",
       "FIRE DEPARTMENT                     44\n",
       "ADMIN TRIALS AND HEARINGS           42\n",
       "DEPARTMENT OF BUSINESS SERV.        42\n",
       "LAW DEPARTMENT                      30\n",
       "DEPT OF CITYWIDE ADMIN SVCS         29\n",
       "DEPT. OF HOMELESS SERVICES          24\n",
       "TAXI & LIMOUSINE COMMISSION         24\n",
       "CIVILIAN COMPLAINT REVIEW BD        21\n",
       "OFFICE OF MANAGEMENT & BUDGET       21\n",
       "DEPT OF YOUTH & COMM DEV SRVS       19\n",
       "CONSUMER AFFAIRS                    17\n",
       "FINANCIAL INFO SVCS AGENCY          15\n",
       "NYC EMPLOYEES RETIREMENT SYS        14\n",
       "DEPARTMENT FOR THE AGING            11\n",
       "DEPT OF RECORDS & INFO SERVICE      10\n",
       "OFFICE OF THE COMPTROLLER            9\n",
       "HUMAN RIGHTS COMMISSION              9\n",
       "OFF OF PAYROLL ADMINISTRATION        7\n",
       "OFFICE OF EMERGENCY MANAGEMENT       5\n",
       "DEPARTMENT OF CITY PLANNING          5\n",
       "BUSINESS INTEGRITY COMMISSION        4\n",
       "DISTRICT ATTORNEY KINGS COUNTY       3\n",
       "CONFLICTS OF INTEREST BOARD          2\n",
       "OFFICE OF COLLECTIVE BARGAININ       1\n",
       "CULTURAL AFFAIRS                     1\n",
       "PRESIDENT BOROUGH OF MANHATTAN       1\n",
       "DEPARTMENT OF PROBATION              1\n",
       "DISTRICT ATTORNEY RICHMOND COU       1\n",
       "NYC POLICE PENSION FUND              1\n",
       "TEACHERS RETIREMENT SYSTEM           1\n",
       "Name: # Of Positions, dtype: int64"
      ]
     },
     "execution_count": 7,
     "metadata": {},
     "output_type": "execute_result"
    }
   ],
   "source": [
    "by_agency = df2.groupby('Agency')\n",
    "by_agency['# Of Positions'].sum().sort_values(ascending=False)"
   ]
  },
  {
   "cell_type": "markdown",
   "metadata": {},
   "source": [
    "Looks like the Department of Health/Mental Hygiene still has the most openings, but now that we've removed duplicate postings and counted # of positions, it tells us that it has 1382 instead of 1247 openings. Let's pretend for a second that we didn't have pandas. Could we figure this out using a function written purely in Python? Yes."
   ]
  },
  {
   "cell_type": "code",
   "execution_count": 8,
   "metadata": {
    "collapsed": false
   },
   "outputs": [
    {
     "name": "stdout",
     "output_type": "stream",
     "text": [
      "defaultdict(<type 'int'>, {u'TAXI & LIMOUSINE COMMISSION': 24, u'DEPT OF RECORDS & INFO SERVICE': 10, u'DEPT OF YOUTH & COMM DEV SRVS': 19, u'DISTRICT ATTORNEY RICHMOND COU': 1, u'FINANCIAL INFO SVCS AGENCY': 15, u'NYC HOUSING AUTHORITY': 185, u'HOUSING PRESERVATION & DVLPMNT': 114, u'DEPARTMENT OF TRANSPORTATION': 182, u'DEPARTMENT OF CITY PLANNING': 5, u'ADMIN TRIALS AND HEARINGS': 42, u'DEPARTMENT OF INVESTIGATION': 122, u'CONFLICTS OF INTEREST BOARD': 2, u'DEPT OF PARKS & RECREATION': 200, u'DEPARTMENT OF SANITATION': 73, u'OFFICE OF THE COMPTROLLER': 9, u'DEPT OF CITYWIDE ADMIN SVCS': 29, u'HUMAN RIGHTS COMMISSION': 9, u'CONSUMER AFFAIRS': 17, u'DEPT. OF HOMELESS SERVICES': 24, u'PRESIDENT BOROUGH OF MANHATTAN': 1, u'DEPARTMENT OF CORRECTION': 178, u'NYC EMPLOYEES RETIREMENT SYS': 14, u'DEPT OF INFO TECH & TELECOMM': 162, u'OFFICE OF EMERGENCY MANAGEMENT': 5, u'DEPARTMENT FOR THE AGING': 11, u'DEPARTMENT OF PROBATION': 1, u'DISTRICT ATTORNEY KINGS COUNTY': 3, u'HRA/DEPT OF SOCIAL SERVICES': 53, u'DEPT OF DESIGN & CONSTRUCTION': 598, u'OFFICE OF MANAGEMENT & BUDGET': 21, u'TEACHERS RETIREMENT SYSTEM': 1, u'LAW DEPARTMENT': 30, u'DEPARTMENT OF BUILDINGS': 484, u'OFFICE OF COLLECTIVE BARGAININ': 1, u'NYC POLICE PENSION FUND': 1, u'DEPARTMENT OF BUSINESS SERV.': 42, u'DEPT OF ENVIRONMENT PROTECTION': 360, u'DEPT OF HEALTH/MENTAL HYGIENE': 1382, u'DEPARTMENT OF FINANCE': 56, u'OFF OF PAYROLL ADMINISTRATION': 7, u'CIVILIAN COMPLAINT REVIEW BD': 21, u'CULTURAL AFFAIRS': 1, u'FIRE DEPARTMENT': 44, u'BUSINESS INTEGRITY COMMISSION': 4, u\"ADMIN FOR CHILDREN'S SVCS\": 275})\n"
     ]
    }
   ],
   "source": [
    "#function below creates a dictionary in which the key is the agency and the value is the number of total openings, \n",
    "#equivalent to the pandas method above\n",
    "def count_jobs(data_frame):\n",
    "    jobs_per_agency = defaultdict(int)\n",
    "    for i, row in data_frame.iterrows():\n",
    "        jobs_per_agency[row['Agency']] += int(row['# Of Positions'])\n",
    "    return jobs_per_agency\n",
    "\n",
    "print count_jobs(df2)"
   ]
  },
  {
   "cell_type": "markdown",
   "metadata": {},
   "source": [
    "Our function created a dictionary with agency names as the keys and # of Postings as the values. The key Department of Health/Mental Hygiene has a value of 1382, which matches what we found using Pandas.\n",
    "\n",
    "Now let's dig into that salary information."
   ]
  },
  {
   "cell_type": "markdown",
   "metadata": {},
   "source": [
    "## Salary Info\n",
    "\n",
    "Let's analyze annual salaries first."
   ]
  },
  {
   "cell_type": "code",
   "execution_count": 36,
   "metadata": {
    "collapsed": false
   },
   "outputs": [
    {
     "name": "stdout",
     "output_type": "stream",
     "text": [
      "                                  Mean Salary  # Openings  Standard Deviaion\n",
      "Agency                                                                      \n",
      "OFFICE OF MANAGEMENT & BUDGET   106475.000000           1                NaN\n",
      "DEPARTMENT OF SANITATION        103411.015152          66       21783.378492\n",
      "NYC EMPLOYEES RETIREMENT SYS    103281.000000           3       13061.756783\n",
      "NYC POLICE PENSION FUND          99521.000000           1                NaN\n",
      "FINANCIAL INFO SVCS AGENCY       90648.000000          15       29441.481947\n",
      "FIRE DEPARTMENT                  87550.948276          29       17875.159319\n",
      "DEPARTMENT OF BUSINESS SERV.     85048.200000          35       37432.859672\n",
      "OFFICE OF THE COMPTROLLER        83960.388889           9       28711.090221\n",
      "DEPT OF INFO TECH & TELECOMM     83784.474684         158       20756.727264\n",
      "CONFLICTS OF INTEREST BOARD      76941.750000           2       43546.817566\n",
      "DEPARTMENT OF CORRECTION         76582.367257         113       32934.290916\n",
      "DEPARTMENT FOR THE AGING         76159.550000          10       23473.898610\n",
      "DEPT OF CITYWIDE ADMIN SVCS      75168.218750          16       24748.944532\n",
      "ADMIN FOR CHILDREN'S SVCS        73302.425455         275       14470.520868\n",
      "DEPT. OF HOMELESS SERVICES       72186.770833          24       29108.348478\n",
      "DEPARTMENT OF FINANCE            71849.833333          51       19511.179708\n",
      "CONSUMER AFFAIRS                 71270.176471          17       33376.725638\n",
      "HUMAN RIGHTS COMMISSION          71032.111111           9       22569.972903\n",
      "OFFICE OF EMERGENCY MANAGEMENT   71000.000000           5       19493.588690\n",
      "HRA/DEPT OF SOCIAL SERVICES      69855.226415          53       15952.969279\n",
      "DEPT OF YOUTH & COMM DEV SRVS    69595.916667          18       13397.259796\n",
      "DEPT OF DESIGN & CONSTRUCTION    69210.908233         583       18724.021796\n",
      "DEPARTMENT OF CITY PLANNING      68301.800000           5        8979.867890\n",
      "DEPT OF HEALTH/MENTAL HYGIENE    67390.632990         970       24115.800180\n",
      "LAW DEPARTMENT                   67033.173077          26       21650.859851\n",
      "DEPT OF ENVIRONMENT PROTECTION   66535.892216         334       25739.791490\n",
      "BUSINESS INTEGRITY COMMISSION    66244.500000           4       32834.000000\n",
      "HOUSING PRESERVATION & DVLPMNT   65512.578947         114       14006.300501\n",
      "NYC HOUSING AUTHORITY            65267.251852         135       15184.498899\n",
      "DEPT OF RECORDS & INFO SERVICE   65096.000000           8       15965.659585\n",
      "TAXI & LIMOUSINE COMMISSION      64695.136364          22       15508.654164\n",
      "CIVILIAN COMPLAINT REVIEW BD     63563.950000          20       24313.437857\n",
      "DEPARTMENT OF TRANSPORTATION     63312.573964         169       20427.189719\n",
      "DEPARTMENT OF BUILDINGS          63192.554230         461       13202.454734\n",
      "DEPARTMENT OF PROBATION          62397.500000           1                NaN\n",
      "DEPARTMENT OF INVESTIGATION      62002.860656         122       14422.263556\n",
      "ADMIN TRIALS AND HEARINGS        59008.050000          10       26910.357505\n",
      "DEPT OF PARKS & RECREATION       57910.161765         170       20606.277756\n",
      "OFF OF PAYROLL ADMINISTRATION    57711.285714           7       23891.715140\n",
      "DISTRICT ATTORNEY KINGS COUNTY   48279.500000           3        9961.825586\n",
      "TEACHERS RETIREMENT SYSTEM       48103.500000           1                NaN\n",
      "PRESIDENT BOROUGH OF MANHATTAN   46844.500000           1                NaN\n",
      "DISTRICT ATTORNEY RICHMOND COU   46149.500000           1                NaN\n",
      "CULTURAL AFFAIRS                 44822.000000           1                NaN\n"
     ]
    }
   ],
   "source": [
    "# Which agency offers the highest mean salaries? Calculate separately for hourly, daily & annual jobs\n",
    "\n",
    "#Check that Salary ranges are integers, not NaN values\n",
    "# nyc_jobs['Salary Range From'].unique() \n",
    "# nyc_jobs['Salary Range To'].unique()\n",
    "\n",
    "#Remember, we already removed duplicate Job IDs from our df2 dataframe, so we want to make a copy of that one rather than the original, nyc_jobs.\n",
    "df_annual = df2.copy()\n",
    "\n",
    "#Filter for annual jobs only.\n",
    "annual_jobs = df_annual[df_annual['Salary Frequency'] == 'Annual']\n",
    "annual_jobs.loc[:,'Mean Salary'] = annual_jobs.loc[:,['Salary Range From', 'Salary Range To']].mean(axis=1)\n",
    "\n",
    "## Remember to keep track of # of postings when calculating the mean. Create a column where you multiply \n",
    "## mean by # of postings so that when calculating the mean for each agency, you just sum that column \n",
    "## by agency and divide by total # of postings from that agency (calculated in question # 1)\n",
    "## We will account for this by creating a new column called \"Total Job Budget\" that is equal to \n",
    "## \"Mean Salary\" * \"# Of Positions\"\n",
    "annual_by_agency = annual_jobs.groupby('Agency')\n",
    "annual_jobs.loc[:,'Total Job Budget'] = annual_jobs.apply(lambda row: row['Mean Salary'] * row['# Of Positions'], axis=1)\n",
    "annual_ranks = annual_by_agency.apply(lambda row: row['Total Job Budget'].sum() / row['# Of Positions'].sum())\n",
    "num_annual_positions = annual_jobs.groupby('Agency')['# Of Positions'].sum()\n",
    "annual_jobs.loc[:,'Diff From Mean'] = annual_jobs.apply(lambda row: ((row['Mean Salary'] - annual_ranks[row['Agency']])**2)*row['# Of Positions'], axis=1)\n",
    "\n",
    "\n",
    "annual_result = annual_jobs.groupby('Agency').sum()\n",
    "annual_result['std dev'] = annual_result.apply(lambda row: math.sqrt(row['Diff From Mean']/(row['# Of Positions']-1)), axis=1)\n",
    "final_result = pd.concat([annual_ranks, num_annual_positions, annual_result['std dev']], axis=1)\n",
    "final_result.columns = ['Mean Salary', '# Openings', 'Standard Deviaion']\n",
    "\n",
    "print final_result.sort_values(by='Mean Salary', ascending=False)"
   ]
  },
  {
   "cell_type": "markdown",
   "metadata": {},
   "source": [
    "Looks like the Office of Management and Budget wins overall, offering an average salary of \\$106475. Since we calculated standard deviation by dividing by (n - 1), this resulted in a NaN value for our standard deviation because there was only one opening, so we were dividing by 0. The Department of Sanitation follows closely behind, with an average salary of ~$103411 and a standard deviation of ~\\$21000. I'm inclined to conclude that the Department of Sanitation consistently offers the highest salaries, since it has a higher number of job openings and a standard deviation that is not especially high when compared to other agencies.\n",
    "\n",
    "The lowest goes to Cultural Affairs, with an average salary of \\$44822. However, since there is only one job opening, it may just be an exception to the other jobs in the agency. Therefore, we are better off concluding that the agency with the lowest pay (based on information from 170 job openings) is the Dept of Parks and Recreation, with a mean salary of ~\\$57910.\n",
    "\n",
    "Let's dig a little more and do the same for hourly and daily salaries."
   ]
  },
  {
   "cell_type": "code",
   "execution_count": 40,
   "metadata": {
    "collapsed": false
   },
   "outputs": [
    {
     "name": "stdout",
     "output_type": "stream",
     "text": [
      "                                Mean Salary  # Openings  Standard Deviaion\n",
      "Agency                                                                    \n",
      "FIRE DEPARTMENT                   59.750000           2          19.445436\n",
      "DEPARTMENT FOR THE AGING          39.000000           1                NaN\n",
      "DEPARTMENT OF CORRECTION          37.000000          22          10.516427\n",
      "NYC HOUSING AUTHORITY             35.000000          50           0.000000\n",
      "CIVILIAN COMPLAINT REVIEW BD      34.500000           1                NaN\n",
      "DEPT OF HEALTH/MENTAL HYGIENE     34.327670         412          12.237339\n",
      "ADMIN TRIALS AND HEARINGS         34.125000          32          15.219364\n",
      "LAW DEPARTMENT                    27.500000           4          11.775681\n",
      "DEPT OF INFO TECH & TELECOMM      26.750000           4          14.722432\n",
      "DEPT OF RECORDS & INFO SERVICE    26.000000           2           0.707107\n",
      "DEPARTMENT OF BUSINESS SERV.      22.285714           7           9.647353\n",
      "DEPT OF ENVIRONMENT PROTECTION    19.980769          26           2.439183\n",
      "NYC EMPLOYEES RETIREMENT SYS      17.500000          11           0.000000\n",
      "DEPT OF PARKS & RECREATION        16.666667          30           0.958927\n",
      "DEPT OF CITYWIDE ADMIN SVCS       16.250000           4          11.842719\n",
      "DEPT OF YOUTH & COMM DEV SRVS     15.500000           1                NaN\n",
      "OFFICE OF MANAGEMENT & BUDGET     14.500000          20           2.564946\n",
      "DEPARTMENT OF FINANCE             13.400000           5           1.917029\n",
      "DEPARTMENT OF SANITATION          12.000000           1                NaN\n",
      "DEPT OF DESIGN & CONSTRUCTION     12.000000          15           0.000000\n",
      "DEPARTMENT OF BUILDINGS           12.000000          23           0.000000\n",
      "TAXI & LIMOUSINE COMMISSION       12.000000           2           0.000000\n",
      "OFFICE OF COLLECTIVE BARGAININ     9.500000           1                NaN\n"
     ]
    }
   ],
   "source": [
    "df_hourly = df2.copy()\n",
    "hourly_jobs = df_hourly[df_hourly['Salary Frequency'] == 'Hourly']\n",
    "\n",
    "hourly_jobs.loc[:,'Mean Salary'] = hourly_jobs.loc[:,['Salary Range From', 'Salary Range To']].mean(axis=1)\n",
    "\n",
    "hourly_by_agency = hourly_jobs.groupby('Agency')\n",
    "hourly_jobs.loc[:,'Total Job Budget'] = hourly_jobs.apply(lambda row: row['Mean Salary'] * row['# Of Positions'], axis=1)\n",
    "hourly_ranks = hourly_by_agency.apply(lambda row: row['Total Job Budget'].sum() / row['# Of Positions'].sum())\n",
    "num_hourly_positions = hourly_jobs.groupby('Agency')['# Of Positions'].sum()\n",
    "hourly_jobs.loc[:,'Diff From Mean'] = hourly_jobs.apply(lambda row: ((row['Mean Salary'] - hourly_ranks[row['Agency']])**2)*row['# Of Positions'], axis=1)\n",
    "\n",
    "\n",
    "hourly_result = hourly_jobs.groupby('Agency').sum()\n",
    "hourly_result['std dev'] = hourly_result.apply(lambda row: math.sqrt(row['Diff From Mean']/(row['# Of Positions']-1)), axis=1)\n",
    "final_hourly_result = pd.concat([hourly_ranks, num_hourly_positions, hourly_result['std dev']], axis=1)\n",
    "final_hourly_result.columns = ['Mean Salary', '# Openings', 'Standard Deviaion']\n",
    "print final_hourly_result.sort_values(by='Mean Salary', ascending=False)"
   ]
  },
  {
   "cell_type": "markdown",
   "metadata": {},
   "source": [
    "Looks like the Fire Department pays the highest hourly salaries, at an average rate of \\$59.75/hr. The lowest hourly rate goes to the Office of Collective Bargaining, at \\$9.50/hr.\n",
    "\n",
    "Last but not least, let's take a look at salaries for jobs that pay a day rate!"
   ]
  },
  {
   "cell_type": "code",
   "execution_count": 53,
   "metadata": {
    "collapsed": false
   },
   "outputs": [
    {
     "name": "stdout",
     "output_type": "stream",
     "text": [
      "                              Mean Salary  # Openings  Standard Deviaion\n",
      "Agency                                                                  \n",
      "FIRE DEPARTMENT                321.615385          13          23.020058\n",
      "DEPARTMENT OF CORRECTION       308.534884          43          91.376406\n",
      "DEPARTMENT OF TRANSPORTATION   297.500000          13          20.894577\n",
      "DEPARTMENT OF SANITATION       287.750000           6           7.960842\n",
      "DEPT OF CITYWIDE ADMIN SVCS    271.444444           9          40.568187\n"
     ]
    }
   ],
   "source": [
    "df_daily = df2.copy()\n",
    "daily_jobs = df_daily[df_daily['Salary Frequency'] == 'Daily']\n",
    "\n",
    "daily_jobs.loc[:,'Mean Salary'] = daily_jobs.loc[:,['Salary Range From', 'Salary Range To']].mean(axis=1)\n",
    "\n",
    "daily_by_agency = daily_jobs.groupby('Agency')\n",
    "daily_jobs.loc[:,'Total Job Budget'] = daily_jobs.apply(lambda row: row['Mean Salary'] * row['# Of Positions'], axis=1)\n",
    "daily_ranks = daily_by_agency.apply(lambda row: row['Total Job Budget'].sum() / row['# Of Positions'].sum())\n",
    "num_daily_positions = daily_jobs.groupby('Agency')['# Of Positions'].sum()\n",
    "daily_jobs.loc[:,'Diff From Mean'] = daily_jobs.apply(lambda row: ((row['Mean Salary'] - daily_ranks[row['Agency']])**2)*row['# Of Positions'], axis=1)\n",
    "#daily_ranks.head()\n",
    "#daily_jobs.loc[:,'Diff From Mean'] = daily_jobs.apply(lambda row: ((row['Mean Salary'] - daily_ranks[row['Agency']])**2)*row['# Of Positions'], axis=1)\n",
    "\n",
    "\n",
    "daily_result = daily_jobs.groupby('Agency').sum()\n",
    "daily_result['std dev'] = daily_result.apply(lambda row: math.sqrt(row['Diff From Mean']/(row['# Of Positions']-1)), axis=1)\n",
    "final_daily_result = pd.concat([daily_ranks, num_daily_positions, daily_result['std dev']], axis=1)\n",
    "final_daily_result.columns = ['Mean Salary', '# Openings', 'Standard Deviaion']\n",
    "print final_daily_result.sort_values(by='Mean Salary', ascending=False)"
   ]
  },
  {
   "cell_type": "markdown",
   "metadata": {},
   "source": [
    "The Fire Department wins again, with a ~\\$321 day rate (that comes out to a six figure annual salary if you assume you work at least 311 days). The Department of Correction is not far behind, offering a salary of ~\\$308/day. Crime pays (as long as you're the one holding the keys)!\n",
    "\n",
    "### Conclusion\n",
    "\n",
    "From our analysis of current job openings, it looks like the __Department of Sanitation__ offers potential candidates the highest __annual salaries__ when you factor in the number of annual openings, whereas the __Fire Department__ offers the highest __hourly and daily salaries.__"
   ]
  },
  {
   "cell_type": "markdown",
   "metadata": {},
   "source": [
    "Just for fun, let's plot the breakdown of job postings with Daily, Hourly and Annual salaries."
   ]
  },
  {
   "cell_type": "code",
   "execution_count": null,
   "metadata": {
    "collapsed": false
   },
   "outputs": [],
   "source": [
    "#remember that df2 is our dataframe with duplicate Job IDs removed.\n",
    "\n",
    "daily_jobs = df2[df2['Salary Frequency']=='Daily']\n",
    "total_daily = daily_jobs['# Of Positions'].sum()\n",
    "print \"There are\", total_daily, \"jobs with a daily pay rate.\"\n",
    "\n",
    "annual_jobs = df2[df2['Salary Frequency'] == 'Annual']\n",
    "total_annual = annual_jobs['# Of Positions'].sum()\n",
    "print \"There are\", total_annual, \"jobs offering an annual salary.\"\n",
    "\n",
    "hourly_jobs = df2[df2['Salary Frequency'] == 'Hourly']\n",
    "total_hourly = hourly_jobs['# Of Positions'].sum()\n",
    "print \"There are\", total_hourly, \"jobs with hourly pay rate.\"\n",
    "\n",
    "job_type_dict = dict()\n",
    "job_type_dict['daily'] = total_daily\n",
    "job_type_dict['annual'] = total_annual\n",
    "job_type_dict['hourly'] = total_hourly\n",
    "\n",
    "job_type = pd.Series(job_type_dict)\n",
    "\n",
    "%matplotlib inline\n",
    "\n",
    "job_type.plot(kind=\"bar\")"
   ]
  },
  {
   "cell_type": "markdown",
   "metadata": {},
   "source": [
    "## Which jobs are the hardest to fill?\n",
    "\n",
    "A few things come to mind. Remember that the columms tell us the information available to us: ['Job ID','Agency','Posting Type','# Of Positions','Business Title','Civil Service Title','Title Code No','Level','Salary Range From','Salary Range To','Salary Frequency','Work Location','Division/Work Unit','Job Description','Minimum Qual Requirements','Preferred Skills','Additional Information','To Apply','Hours/Shift','Work Location 1','Recruitment Contact','Residency Requirement','Posting Date','Post Until','Posting Updated','Process Date']\n",
    "\n",
    "Areas to investigate:\n",
    "* __Which jobs have the lowest salaries? What about the highest salaries?__ It's tough to attract job talent when you're offering a low salary, especially in NYC, where the cost of living is so high. Low salaries could prevent qualified people from applying. High salaries, on the other hand, could also be hard to fill. Perhaps a salary is high out of necessity: because a job is so demanding and unappealing.\n",
    "* __Which jobs have been posted for the longest amount of time?__ Our data source says that the dataset contains **current** job postings. Therefore, we can assume that if a job listing is included in the dataset, it has not yet been filled. My initial thought is that the older a job listing is, the harder it is to fill the position. But there is always the possibility that an agency just forgot to remove the job from the database after the job was filled.\n",
    "* __Which jobs have the most \"# Of Positions\" to fill?__ I'm guessing that the more # of positions available, the harder it must be to fill a particular job.\n",
    "* __Which jobs have the lengthiest \"Minimum Qual Requirements\" or \"Preferred Skills\" fields?__ Perhaps the longer these fields are, the more difficult it is to fill the position because people don't feel qualified for the position, or the hiring manager has higher standards for this position.\n",
    "\n",
    "\n",
    "OK, let's get to work! First, we need to drop columns that are not relevant to our investigation and add a \"Mean Salary\" column so we can utilize that info."
   ]
  },
  {
   "cell_type": "code",
   "execution_count": null,
   "metadata": {
    "collapsed": false
   },
   "outputs": [],
   "source": [
    "job_info = nyc_jobs.drop(['Residency Requirement', 'Title Code No', 'Level', 'Work Location', \\\n",
    "    'Additional Information', 'To Apply', 'Hours/Shift', 'Work Location 1', 'Recruitment Contact', \\\n",
    "    'Post Until', 'Posting Updated', 'Process Date'], axis=1)\n",
    "\n",
    "job_info['Mean Salary'] = job_info[['Salary Range From', 'Salary Range To']].mean(axis=1)\n",
    "job_info = job_info.drop_duplicates('Job ID')\n",
    "annual_info = job_info[job_info['Salary Frequency'] == 'Annual']\n",
    "annual_info_by_salary = annual_info.loc[:,['Agency', '# Of Positions', 'Business Title', 'Mean Salary']]\n",
    "annual_info_sorted = annual_info_by_salary.sort_values('Mean Salary', ascending=True)\n",
    "annual_info_sorted.head()"
   ]
  },
  {
   "cell_type": "markdown",
   "metadata": {},
   "source": [
    "## Lowest mean salaries\n",
    "\n",
    "The lowest paying annual jobs are Cusomer Service Representatives, Communications Specialists, Clerical Associates, and Laboratory Helpers. Four out of five of these are part of the Dept of Health/Mental Hygiene (also the agency with the most openings). All of these pay a mean salary below \\$30k. Pretty dire wages for living in NYC.\n",
    "\n",
    "Now let's look at the .tail() end of that, the annual jobs that offer the highest mean salaries.\n",
    "\n",
    "## Highest mean salaries"
   ]
  },
  {
   "cell_type": "code",
   "execution_count": null,
   "metadata": {
    "collapsed": false
   },
   "outputs": [],
   "source": [
    "annual_info_sorted.tail()"
   ]
  },
  {
   "cell_type": "markdown",
   "metadata": {},
   "source": [
    "The job with the highest mean salary is Deputy Chief City Medical Examiner. In fact, 3 of the 5 top mean salaries are medical-oriented. The other two are Physicians for Sexually Transmitted Diseases. Perhaps STDs are not a popular area of interest for doctors in government, so the city has to offer a higher salary to attract good candidates. Let's look at the job description for Deputy Chief City Medical Examiner, the only one with a mean salary upwards of \\$200k."
   ]
  },
  {
   "cell_type": "code",
   "execution_count": null,
   "metadata": {
    "collapsed": false
   },
   "outputs": [],
   "source": [
    "nyc_jobs.loc[1859, 'Job Description']"
   ]
  },
  {
   "cell_type": "markdown",
   "metadata": {},
   "source": [
    "That makes sense. Despite the high salary of \\$213,000, the position of Deputy Chief City Medical Examiner sounds pretty grim: performing autopsies and conducting \"confidential medico-legal investigations of violent, suspicious, sudden and unexpected deaths throughout the boroughs offices.\" "
   ]
  },
  {
   "cell_type": "markdown",
   "metadata": {},
   "source": [
    "## The oldest listings\n",
    "Now let's look at the oldest listings. Remember to convert the Posting Date column to a data type of datetime by using pd.to_datetime()!"
   ]
  },
  {
   "cell_type": "code",
   "execution_count": null,
   "metadata": {
    "collapsed": false
   },
   "outputs": [],
   "source": [
    "df2.loc[:,'Mean Salary'] = df2.loc[:,['Salary Range From', 'Salary Range To']].mean(axis=1)\n",
    "df2['Posting Date'] = pd.to_datetime(df2['Posting Date'])\n",
    "oldest_jobs = df2.sort_values('Posting Date', ascending=True)\n",
    "\n",
    "oldest_jobs = oldest_jobs.loc[:,['Agency', 'Business Title', '# Of Positions', 'Mean Salary', 'Posting Date']]\n",
    "oldest_jobs.head()"
   ]
  },
  {
   "cell_type": "markdown",
   "metadata": {},
   "source": [
    "The oldest listing is from 2011! The Department of Business Services may still be looking for that Account Manager, for all we know. However, I think it's safe to say that if these jobs were truly tough to fill, they would have already been reposted by now. These were probably just jobs that the agencies forgot to remove from the database once they'd filled the positions. Since I don't see particularly low mean salaries or high # Of Positions available, our sample of oldest listings doesn't seem to tell us much about the jobs that are hardest to fill. "
   ]
  },
  {
   "cell_type": "markdown",
   "metadata": {},
   "source": [
    "## The Jobs With the Highest # Of Positions Open\n",
    "Now let's analyze which jobs have the highest number of positions open."
   ]
  },
  {
   "cell_type": "code",
   "execution_count": null,
   "metadata": {
    "collapsed": false
   },
   "outputs": [],
   "source": [
    "most_openings = df2.sort_values('# Of Positions', ascending=False)\n",
    "most_openings.loc[:,['Agency', 'Business Title', '# Of Positions', 'Mean Salary', 'Posting Date']].head(10)"
   ]
  },
  {
   "cell_type": "code",
   "execution_count": null,
   "metadata": {
    "collapsed": false
   },
   "outputs": [],
   "source": [
    "most_openings.loc[:,['Agency', 'Business Title', '# Of Positions', 'Mean Salary', 'Job Description']].head(10)"
   ]
  },
  {
   "cell_type": "markdown",
   "metadata": {},
   "source": [
    "Let's look at the description for the position most in demand, \"Investigate Consultant Level 1.\""
   ]
  },
  {
   "cell_type": "code",
   "execution_count": null,
   "metadata": {
    "collapsed": false
   },
   "outputs": [],
   "source": [
    "print most_openings.loc[2629, 'Job Description']"
   ]
  },
  {
   "cell_type": "markdown",
   "metadata": {},
   "source": [
    "Sounds like quite a demanding and emotionally taxing job, working with troubled and/or missing children. No wonder it's a tough position to fill! Let's look at the job description of the job with almost as many openings, School Mental Health Consultant."
   ]
  },
  {
   "cell_type": "code",
   "execution_count": null,
   "metadata": {
    "collapsed": false
   },
   "outputs": [],
   "source": [
    "print most_openings.loc[2160, 'Job Description']"
   ]
  },
  {
   "cell_type": "markdown",
   "metadata": {},
   "source": [
    "This also looks like a job that has a lot of responsibilities that involve troubled youth. No wonder there are so many positions open!"
   ]
  },
  {
   "cell_type": "markdown",
   "metadata": {},
   "source": [
    "## Length of Job Requirements field\n",
    "\n",
    "Is it harder to fill a job if you list too many requirements or preferred skills? Let's find out. First let's create a new column that finds the character count of the Minimum Qual Requirements column. Let's do the same for the character count in Preferred Skills."
   ]
  },
  {
   "cell_type": "code",
   "execution_count": null,
   "metadata": {
    "collapsed": false
   },
   "outputs": [],
   "source": [
    "annual_info_reqs = annual_info.loc[:,['Agency', '# Of Positions', 'Business Title', 'Mean Salary', 'Minimum Qual Requirements','Preferred Skills']]\n",
    "annual_info_reqs_sorted = annual_info_reqs.sort_values('# Of Positions', ascending=False)\n",
    "annual_info_reqs_sorted['Reqs Character Count'] = annual_info_reqs_sorted['Minimum Qual Requirements'].str.len()\n",
    "annual_info_reqs_sorted['Skills Character Count'] = annual_info_reqs_sorted['Preferred Skills'].str.len()\n",
    "\n",
    "annual_most_demanding_reqs = annual_info_reqs_sorted.sort_values('Reqs Character Count', ascending=False)\n",
    "annual_most_demanding_reqs.head()"
   ]
  },
  {
   "cell_type": "code",
   "execution_count": null,
   "metadata": {
    "collapsed": false
   },
   "outputs": [],
   "source": [
    "annual_most_demanding_skills = annual_info_reqs_sorted.sort_values('Skills Character Count', ascending=False)\n",
    "annual_most_demanding_skills.head()"
   ]
  },
  {
   "cell_type": "markdown",
   "metadata": {
    "collapsed": false
   },
   "source": [
    "So it doesn't look like the jobs with the longest skills or requirements have low salaries or lots of positions open. This leads me to believe that the hardest jobs to fill are the ones with __difficult (rather than lengthy)__ job descriptions, a high # of positions open, and salaries that aren't especially high.\n",
    "\n",
    "Based on the above, I think that the most difficult jobs to fill are the jobs that have the most openings & lowest salaries: __Investigate Consultant Level 1 for the Admin for Children's Services, and School Mental Health Consultant for the Department of Health/Mental Hygiene.__ These jobs also sound like a lot of responsibility for not a lot of pay (but arguably still more pay than the Dept of Cultural Affairs' mean salary)."
   ]
  },
  {
   "cell_type": "markdown",
   "metadata": {},
   "source": [
    "## Summary\n",
    "\n",
    "1. The Department of Health/Mental Hygiene has the most openings.\n",
    "2. From our analysis of current job openings, even though the Office of Management and Budget technically offers the highest mean annual salary, since it only has one position open, it's not necessarily indicative of the agency's salaries as a whole. With 66 annually paid job openings, the Department of Sanitation seems to offer potential candidates the highest annual salaries. The Fire Department offers the highest hourly and daily salaries. The lowest annual salaries go to the Dept of Parks and Recreation. Though this agency is not the lowest on the list, it has the most openings, and is therefore more likely to be indicative of the agency's salaries as a whole when compared to other agencies with low salaries but also a small number of openings. The lowest hourly rate goes to the Office of Collective Bargaining, at \\$9.50/hr. The Dept of Citywide Administrative Services offers the lowest daily pay rate.\n",
    "\n",
    "3. Based on the theory that jobs with a) the most openings and b) lowest salaries are hardest to fill, the hardest jobs to fill are: Investigate Consultant Level 1 for the Admin for Children's Services, and School Mental Health Consultant for the Department of Health/Mental Hygiene. "
   ]
  }
 ],
 "metadata": {
  "kernelspec": {
   "display_name": "Python 2",
   "language": "python",
   "name": "python2"
  },
  "language_info": {
   "codemirror_mode": {
    "name": "ipython",
    "version": 2
   },
   "file_extension": ".py",
   "mimetype": "text/x-python",
   "name": "python",
   "nbconvert_exporter": "python",
   "pygments_lexer": "ipython2",
   "version": "2.7.10"
  }
 },
 "nbformat": 4,
 "nbformat_minor": 0
}
